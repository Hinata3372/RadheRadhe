{
  "cells": [
    {
      "cell_type": "code",
      "execution_count": 1,
      "metadata": {
        "colab": {
          "base_uri": "https://localhost:8080/"
        },
        "id": "wJaKHNrkaE-Q",
        "outputId": "65f9fad8-25e5-4be1-ef73-045284d69b6f"
      },
      "outputs": [
        {
          "output_type": "stream",
          "name": "stdout",
          "text": [
            "nvcc: NVIDIA (R) Cuda compiler driver\n",
            "Copyright (c) 2005-2023 NVIDIA Corporation\n",
            "Built on Tue_Aug_15_22:02:13_PDT_2023\n",
            "Cuda compilation tools, release 12.2, V12.2.140\n",
            "Build cuda_12.2.r12.2/compiler.33191640_0\n"
          ]
        }
      ],
      "source": [
        "\n",
        "!nvcc --version"
      ]
    },
    {
      "cell_type": "code",
      "execution_count": 2,
      "metadata": {
        "colab": {
          "base_uri": "https://localhost:8080/"
        },
        "id": "lctE5F8qQ9yh",
        "outputId": "51bd0f70-1bf2-45a4-ed7a-698c4b8f98df"
      },
      "outputs": [
        {
          "output_type": "stream",
          "name": "stdout",
          "text": [
            "Writing vector.cu\n"
          ]
        }
      ],
      "source": [
        "%%writefile vector.cu\n",
        "#include <stdio.h>\n",
        "#define MAX_SIZE 100\n",
        "\n",
        "// Function to add two vectors\n",
        "void addVectors(int vector1[], int vector2[], int size, int result[]) {\n",
        "    for (int i = 0; i < size; i++) {\n",
        "        result[i] = vector1[i] + vector2[i];\n",
        "    }\n",
        "}\n",
        "int main() {\n",
        "    int size;\n",
        "    int vector1[MAX_SIZE], vector2[MAX_SIZE], result[MAX_SIZE];\n",
        "    // Input size of vectors\n",
        "    printf(\"Enter the size of vectors: \");\n",
        "    scanf(\"%d\", &size);\n",
        "    // Input elements of first vector\n",
        "    printf(\"Enter elements of the first vector:\\n\");\n",
        "    for (int i = 0; i < size; i++) {\n",
        "        printf(\"Enter element %d: \", i + 1);\n",
        "        scanf(\"%d\", &vector1[i]);\n",
        "    }\n",
        "    // Input elements of second vector\n",
        "    printf(\"Enter elements of the second vector:\\n\");\n",
        "    for (int i = 0; i < size; i++) {\n",
        "        printf(\"Enter element %d: \", i + 1);\n",
        "        scanf(\"%d\", &vector2[i]);\n",
        "    }\n",
        "    // Adding vectors\n",
        "    addVectors(vector1, vector2, size, result);\n",
        "    // Displaying the result\n",
        "    printf(\"Resultant vector after addition:\\n\");\n",
        "    for (int i = 0; i < size; i++) {\n",
        "        printf(\"%d \", result[i]);\n",
        "    }\n",
        "    printf(\"\\n\");\n",
        "    return 0;\n",
        "}"
      ]
    },
    {
      "cell_type": "code",
      "execution_count": null,
      "metadata": {
        "colab": {
          "base_uri": "https://localhost:8080/"
        },
        "id": "BwGVmncIRZ8r",
        "outputId": "3e740cae-85bc-4ff1-edeb-886a5239fcee"
      },
      "outputs": [
        {
          "output_type": "stream",
          "name": "stdout",
          "text": [
            "Enter the size of vectors: "
          ]
        }
      ],
      "source": [
        "!nvcc vector.cu -o vector_cu\n",
        "!./vector_cu"
      ]
    },
    {
      "cell_type": "code",
      "execution_count": null,
      "metadata": {
        "id": "RIblrg7pRdeZ"
      },
      "outputs": [],
      "source": [
        "%%writefile matrix.cu\n",
        "#include <stdio.h>\n",
        "#define MAX_SIZE 10\n",
        "\n",
        "// Function to perform matrix multiplication\n",
        "void multiplyMatrix(int mat1[][MAX_SIZE], int mat2[][MAX_SIZE], int result[][MAX_SIZE], int row1, int col1, int row2, int col2) {\n",
        "    if (col1 != row2) {\n",
        "        printf(\"Matrix multiplication not possible\\n\");\n",
        "        return;\n",
        "    }\n",
        "\n",
        "    for (int i = 0; i < row1; i++) {\n",
        "        for (int j = 0; j < col2; j++) {\n",
        "            result[i][j] = 0;\n",
        "            for (int k = 0; k < col1; k++) {\n",
        "                result[i][j] += mat1[i][k] * mat2[k][j];\n",
        "            }\n",
        "        }\n",
        "    }\n",
        "}\n",
        "\n",
        "// Function to display matrix\n",
        "void displayMatrix(int mat[][MAX_SIZE], int row, int col) {\n",
        "    for (int i = 0; i < row; i++) {\n",
        "        for (int j = 0; j < col; j++) {\n",
        "            printf(\"%d \", mat[i][j]);\n",
        "        }\n",
        "        printf(\"\\n\");\n",
        "    }\n",
        "}\n",
        "\n",
        "int main() {\n",
        "    int row1, col1, row2, col2;\n",
        "    int mat1[MAX_SIZE][MAX_SIZE], mat2[MAX_SIZE][MAX_SIZE], result[MAX_SIZE][MAX_SIZE];\n",
        "\n",
        "    // Input dimensions of first matrix\n",
        "    printf(\"Enter the number of rows and columns of first matrix: \");\n",
        "    scanf(\"%d %d\", &row1, &col1);\n",
        "\n",
        "    // Input elements of first matrix\n",
        "    printf(\"Enter the elements of first matrix:\\n\");\n",
        "    for (int i = 0; i < row1; i++) {\n",
        "        for (int j = 0; j < col1; j++) {\n",
        "            printf(\"Enter element [%d][%d]: \", i, j);\n",
        "            scanf(\"%d\", &mat1[i][j]);\n",
        "        }\n",
        "    }\n",
        "\n",
        "    // Input dimensions of second matrix\n",
        "    printf(\"Enter the number of rows and columns of second matrix: \");\n",
        "    scanf(\"%d %d\", &row2, &col2);\n",
        "\n",
        "    // Input elements of second matrix\n",
        "    printf(\"Enter the elements of second matrix:\\n\");\n",
        "    for (int i = 0; i < row2; i++) {\n",
        "        for (int j = 0; j < col2; j++) {\n",
        "            printf(\"Enter element [%d][%d]: \", i, j);\n",
        "            scanf(\"%d\", &mat2[i][j]);\n",
        "        }\n",
        "    }\n",
        "\n",
        "    // Perform matrix multiplication\n",
        "    multiplyMatrix(mat1, mat2, result, row1, col1, row2, col2);\n",
        "\n",
        "    // Display the result\n",
        "    printf(\"Resultant matrix after multiplication:\\n\");\n",
        "    displayMatrix(result, row1, col2);\n",
        "\n",
        "    return 0;\n",
        "}\n"
      ]
    },
    {
      "cell_type": "code",
      "execution_count": null,
      "metadata": {
        "id": "rPJsbeYQrquF"
      },
      "outputs": [],
      "source": [
        "!nvcc matrix.cu -o matrix.cu\n",
        "!./matrix.cu"
      ]
    },
    {
      "cell_type": "code",
      "execution_count": null,
      "metadata": {
        "id": "Y1Kv6zzBauvb"
      },
      "outputs": [],
      "source": [
        "To access:\n",
        "ssh 172.16.8.97\n",
        "mmcoe@123\n",
        "nvcc filename.cu -o objname\n",
        "./objname"
      ]
    }
  ],
  "metadata": {
    "accelerator": "GPU",
    "colab": {
      "gpuType": "T4",
      "provenance": []
    },
    "kernelspec": {
      "display_name": "Python 3",
      "name": "python3"
    },
    "language_info": {
      "name": "python"
    }
  },
  "nbformat": 4,
  "nbformat_minor": 0
}